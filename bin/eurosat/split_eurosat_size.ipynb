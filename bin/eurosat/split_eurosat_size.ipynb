{
 "cells": [
  {
   "cell_type": "code",
   "execution_count": 11,
   "metadata": {},
   "outputs": [
    {
     "name": "stderr",
     "output_type": "stream",
     "text": [
      "10it [00:00, 278.78it/s]\n"
     ]
    }
   ],
   "source": [
    "import random\n",
    "import numpy as np\n",
    "from sklearn.model_selection import train_test_split\n",
    "from tqdm import tqdm\n",
    "import os\n",
    "\n",
    "data_folder = \"/home/sl636/seasonal-contrast/2750/\"\n",
    "\n",
    "# Get a list of all the subfolders (categories) in the data folder\n",
    "subfolders = os.listdir(data_folder)\n",
    "\n",
    "# Create an empty list to store the image filepaths and their corresponding labels\n",
    "image_filepaths = []\n",
    "labels = []\n",
    "\n",
    "# Loop over each subfolder (category) and get the filepaths of all images in that folder\n",
    "for i, subfolder in tqdm(enumerate(subfolders)):\n",
    "    subfolder_path = os.path.join(data_folder, subfolder)\n",
    "    image_names = os.listdir(subfolder_path)\n",
    "    image_paths = [os.path.join(subfolder_path, name) for name in image_names]\n",
    "    \n",
    "    # Add the image filepaths and their corresponding labels to the lists\n",
    "    image_filepaths.extend(image_paths)\n",
    "    labels.extend([i]*len(image_paths))\n",
    "\n",
    "# Convert the labels to numpy array\n",
    "labels = np.array(labels)\n",
    "\n",
    "# Perform a stratified train-test split\n",
    "for size in [64, 128, 256, 512, 1024]:\n",
    "    train_filepaths, test_filepaths, train_labels, test_labels = train_test_split(image_filepaths, labels,\n",
    "                                                                                train_size=size, test_size=size, random_state=42,\n",
    "                                                                                stratify=labels)\n",
    "    \n",
    "    with open(f\"/scratch/saad/eurosat_data/{size}_train.txt\", \"w+\") as file:\n",
    "        for path in train_filepaths:\n",
    "            file.write(path.split(\"/\")[-1]+\"\\n\")\n",
    "\n",
    "    with open(f\"/scratch/saad/eurosat_data/{size}_val.txt\", \"w+\") as file:\n",
    "        for path in test_filepaths:\n",
    "            file.writelines(path.split(\"/\")[-1]+\"\\n\")"
   ]
  },
  {
   "cell_type": "code",
   "execution_count": 25,
   "metadata": {},
   "outputs": [
    {
     "name": "stdout",
     "output_type": "stream",
     "text": [
      "10\n",
      "10\n",
      "10\n",
      "10\n",
      "10\n",
      "10\n",
      "10\n",
      "10\n",
      "10\n",
      "10\n"
     ]
    }
   ],
   "source": [
    "for split in [\"train\", \"val\"]:\n",
    "    for size in [64, 128, 256, 512, 1024]:\n",
    "        cats = set()\n",
    "        with open(f\"/scratch/saad/eurosat_data/{size}_{split}.txt\", \"r\") as file:\n",
    "            for item in file.readlines():\n",
    "                cats.add(item.split(\"_\")[0])    \n",
    "        print(len(cats))"
   ]
  },
  {
   "cell_type": "code",
   "execution_count": null,
   "metadata": {},
   "outputs": [],
   "source": []
  }
 ],
 "metadata": {
  "kernelspec": {
   "display_name": "swav-1",
   "language": "python",
   "name": "python3"
  },
  "language_info": {
   "codemirror_mode": {
    "name": "ipython",
    "version": 3
   },
   "file_extension": ".py",
   "mimetype": "text/x-python",
   "name": "python",
   "nbconvert_exporter": "python",
   "pygments_lexer": "ipython3",
   "version": "3.6.13"
  },
  "orig_nbformat": 4,
  "vscode": {
   "interpreter": {
    "hash": "5a9682567d934090753fdff7a33a9ef1bf7185d3ea3fe2ae1bef37d4f9d081de"
   }
  }
 },
 "nbformat": 4,
 "nbformat_minor": 2
}
