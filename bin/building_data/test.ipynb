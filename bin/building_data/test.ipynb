{
 "cells": [
  {
   "cell_type": "code",
   "execution_count": 1,
   "metadata": {},
   "outputs": [
    {
     "ename": "ModuleNotFoundError",
     "evalue": "No module named 'tasks'",
     "output_type": "error",
     "traceback": [
      "\u001b[0;31m---------------------------------------------------------------------------\u001b[0m",
      "\u001b[0;31mModuleNotFoundError\u001b[0m                       Traceback (most recent call last)",
      "\u001b[1;32m/home/sl636/temp_ssrs/ssrs/bin/building_data/test.ipynb Cell 1\u001b[0m in \u001b[0;36m<cell line: 2>\u001b[0;34m()\u001b[0m\n\u001b[1;32m      <a href='vscode-notebook-cell://ssh-remote%2Bpizer.egr.duke.edu/home/sl636/temp_ssrs/ssrs/bin/building_data/test.ipynb#ch0000000vscode-remote?line=0'>1</a>\u001b[0m \u001b[39mimport\u001b[39;00m \u001b[39mos\u001b[39;00m\n\u001b[0;32m----> <a href='vscode-notebook-cell://ssh-remote%2Bpizer.egr.duke.edu/home/sl636/temp_ssrs/ssrs/bin/building_data/test.ipynb#ch0000000vscode-remote?line=1'>2</a>\u001b[0m \u001b[39mfrom\u001b[39;00m \u001b[39mtasks\u001b[39;00m\u001b[39m.\u001b[39;00m\u001b[39mbuilding\u001b[39;00m \u001b[39mimport\u001b[39;00m BuildingSegmentationDataset\n",
      "\u001b[0;31mModuleNotFoundError\u001b[0m: No module named 'tasks'"
     ]
    }
   ],
   "source": [
    "import os\n",
    "from tasks.building import BuildingSegmentationDataset"
   ]
  },
  {
   "cell_type": "code",
   "execution_count": null,
   "metadata": {},
   "outputs": [],
   "source": []
  }
 ],
 "metadata": {
  "kernelspec": {
   "display_name": "Python 3.9.12 ('base')",
   "language": "python",
   "name": "python3"
  },
  "language_info": {
   "codemirror_mode": {
    "name": "ipython",
    "version": 3
   },
   "file_extension": ".py",
   "mimetype": "text/x-python",
   "name": "python",
   "nbconvert_exporter": "python",
   "pygments_lexer": "ipython3",
   "version": "3.9.12"
  },
  "orig_nbformat": 4,
  "vscode": {
   "interpreter": {
    "hash": "5127ef0b550411f1e2248b20ad8630ee3924a856be94928e85acbbeb0560d7c6"
   }
  }
 },
 "nbformat": 4,
 "nbformat_minor": 2
}
