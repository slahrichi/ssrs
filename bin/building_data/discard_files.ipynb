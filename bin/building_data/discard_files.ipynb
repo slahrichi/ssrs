{
    "cells": [
        {
            "cell_type": "code",
            "execution_count": 7,
            "metadata": {},
            "outputs": [],
            "source": [
                "import os\n",
                "from PIL import Image\n",
                "import shutil\n"
            ]
        },
        {
            "cell_type": "code",
            "execution_count": 25,
            "metadata": {},
            "outputs": [],
            "source": [
                "img_path = '/home/sl636/inria/AerialImageDataset/retiled_train_images/'\n",
                "img_val_path = '/home/sl636/inria/AerialImageDataset/retiled_val_images/'\n",
                "mask_path = '/home/sl636/inria/AerialImageDataset/retiled_train_masks/'\n",
                "mask_val_path = '/home/sl636/inria/AerialImageDataset/retiled_val_masks/'\n",
                "\n",
                "def file_iter(path):\n",
                "\tfiles = os.listdir(path)\n",
                "\tfor i, fn in enumerate(files):\n",
                "\t\tif i % 10000 == 0:\n",
                "\t\t\tprint(f\"On file {i}\")\n",
                "\t\twith Image.open(path+fn) as f:\n",
                "\t\t\tif f.width !=224 or f.height !=224:\n",
                "\t\t\t\tyield fn\n",
                "            \n"
            ]
        },
        {
            "cell_type": "code",
            "execution_count": 26,
            "metadata": {},
            "outputs": [
                {
                    "name": "stdout",
                    "output_type": "stream",
                    "text": [
                        "On file 0\n",
                        "On file 10000\n",
                        "On file 20000\n",
                        "On file 30000\n",
                        "On file 40000\n",
                        "On file 50000\n",
                        "On file 60000\n",
                        "On file 70000\n",
                        "On file 80000\n"
                    ]
                }
            ],
            "source": [
                "for i, file_path in enumerate(file_iter(img_path)):\n",
                "\t\tos.remove(img_path+file_path)\n",
                "\t\tos.remove(mask_path+file_path)\n",
                "\n"
            ]
        },
        {
            "cell_type": "code",
            "execution_count": 27,
            "metadata": {},
            "outputs": [
                {
                    "name": "stdout",
                    "output_type": "stream",
                    "text": [
                        "0\n"
                    ]
                }
            ],
            "source": [
                "print(len(set(os.listdir('/home/sl636/inria/AerialImageDataset/retiled_train_images')).difference(set(os.listdir('/home/sl636/inria/AerialImageDataset/retiled_train_masks')))))"
            ]
        },
        {
            "cell_type": "code",
            "execution_count": 28,
            "metadata": {},
            "outputs": [
                {
                    "name": "stdout",
                    "output_type": "stream",
                    "text": [
                        "On file 0\n",
                        "On file 10000\n"
                    ]
                }
            ],
            "source": [
                "for i, file_path in enumerate(file_iter(img_val_path)):\n",
                "\t\tos.remove(img_val_path+file_path)\n",
                "\t\tos.remove(mask_val_path+file_path)"
            ]
        },
        {
            "cell_type": "code",
            "execution_count": 29,
            "metadata": {},
            "outputs": [
                {
                    "name": "stdout",
                    "output_type": "stream",
                    "text": [
                        "0\n"
                    ]
                }
            ],
            "source": [
                "print(len(set(os.listdir('/home/sl636/inria/AerialImageDataset/retiled_val_images')).difference(set(os.listdir('/home/sl636/inria/AerialImageDataset/retiled_val_masks')))))"
            ]
        }
    ],
    "metadata": {
        "kernelspec": {
            "display_name": "Python 3.10.5 ('geospatial': conda)",
            "language": "python",
            "name": "python3"
        },
        "language_info": {
            "codemirror_mode": {
                "name": "ipython",
                "version": 3
            },
            "file_extension": ".py",
            "mimetype": "text/x-python",
            "name": "python",
            "nbconvert_exporter": "python",
            "pygments_lexer": "ipython3",
            "version": "3.10.5"
        },
        "orig_nbformat": 4,
        "vscode": {
            "interpreter": {
                "hash": "c4fe946d1292f46b91755f29bc9c3a0cafa14609bb0b3929a3893d7fc8de6684"
            }
        }
    },
    "nbformat": 4,
    "nbformat_minor": 2
}