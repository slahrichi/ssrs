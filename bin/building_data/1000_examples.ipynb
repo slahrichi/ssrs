{
 "cells": [
  {
   "cell_type": "code",
   "execution_count": 15,
   "metadata": {},
   "outputs": [],
   "source": [
    "import numpy as np\n",
    "import os\n",
    "import shutil\n",
    "from natsort import natsorted"
   ]
  },
  {
   "cell_type": "code",
   "execution_count": 16,
   "metadata": {},
   "outputs": [],
   "source": [
    "# mask_path = \"/scratch/saad/retiled_train_masks/retiled_train_masks/\"\n",
    "# img_path = \"/scratch/saad/retiled_train_images/retiled_train_images/\"\n",
    "\n",
    "# mask_val_path = \"/scratch/saad/retiled_val_masks/retiled_val_masks/\"\n",
    "# img_val_path = \"/scratch/saad/retiled_val_images/retiled_val_images/\"\n",
    "\n",
    "\n",
    "mask_path = \"/home/sl636/inria/AerialImageDataset/retiled_train_masks/\"\n",
    "img_path = \"/home/sl636/inria/AerialImageDataset/retiled_train_images/\"\n",
    "\n",
    "mask_val_path = \"/home/sl636/inria/AerialImageDataset/retiled_val_masks/\"\n",
    "img_val_path = \"/home/sl636/inria/AerialImageDataset/retiled_val_images/\""
   ]
  },
  {
   "cell_type": "code",
   "execution_count": 17,
   "metadata": {},
   "outputs": [],
   "source": [
    "images = natsorted(os.listdir(img_path))\n",
    "masks = natsorted(os.listdir(mask_path))\n",
    "val_images = natsorted(os.listdir(img_val_path))\n",
    "val_masks = natsorted(os.listdir(mask_val_path))"
   ]
  },
  {
   "cell_type": "code",
   "execution_count": 19,
   "metadata": {},
   "outputs": [
    {
     "name": "stdout",
     "output_type": "stream",
     "text": [
      "0\n",
      "0\n"
     ]
    }
   ],
   "source": [
    "print(len(set(images).difference(set(masks))))\n",
    "print(len(set(val_images).difference(set(val_masks))))"
   ]
  },
  {
   "cell_type": "code",
   "execution_count": 21,
   "metadata": {},
   "outputs": [],
   "source": [
    "rng = np.random.default_rng(123)\n",
    "rints = rng.integers(low=0, high=len(images), size=1000)"
   ]
  },
  {
   "cell_type": "code",
   "execution_count": 22,
   "metadata": {},
   "outputs": [],
   "source": [
    "for r in rints:\n",
    "        shutil.copy(img_path+images[r], \"/scratch/saad/1000_images/\")\n",
    "        shutil.copy(mask_path+masks[r], \"/scratch/saad/1000_masks/\")\n",
    "\n"
   ]
  },
  {
   "cell_type": "markdown",
   "metadata": {},
   "source": []
  },
  {
   "cell_type": "code",
   "execution_count": 24,
   "metadata": {},
   "outputs": [],
   "source": [
    "rng = np.random.default_rng(123)\n",
    "rints_val = rng.integers(low=0, high=len(val_images), size=1000)"
   ]
  },
  {
   "cell_type": "code",
   "execution_count": 25,
   "metadata": {},
   "outputs": [],
   "source": [
    "for r in rints_val:\n",
    "        shutil.copy(img_val_path+val_images[r], \"/scratch/saad/1000_val_images/\")\n",
    "        shutil.copy(mask_val_path+val_masks[r], \"/scratch/saad/1000_val_masks/\")\n",
    "\n"
   ]
  },
  {
   "cell_type": "code",
   "execution_count": 27,
   "metadata": {},
   "outputs": [
    {
     "name": "stdout",
     "output_type": "stream",
     "text": [
      "0\n",
      "0\n"
     ]
    }
   ],
   "source": [
    "print(len(set(os.listdir(\"/scratch/saad/1000_val_images/\")).difference(set(os.listdir(\"/scratch/saad/1000_val_masks/\")))))\n",
    "print(len(set(os.listdir(\"/scratch/saad/1000_images/\")).difference(set(os.listdir(\"/scratch/saad/1000_masks/\")))))"
   ]
  },
  {
   "cell_type": "code",
   "execution_count": null,
   "metadata": {},
   "outputs": [],
   "source": []
  }
 ],
 "metadata": {
  "kernelspec": {
   "display_name": "Python 3.8.10 64-bit",
   "language": "python",
   "name": "python3"
  },
  "language_info": {
   "codemirror_mode": {
    "name": "ipython",
    "version": 3
   },
   "file_extension": ".py",
   "mimetype": "text/x-python",
   "name": "python",
   "nbconvert_exporter": "python",
   "pygments_lexer": "ipython3",
   "version": "3.8.10"
  },
  "orig_nbformat": 4,
  "vscode": {
   "interpreter": {
    "hash": "916dbcbb3f70747c44a77c7bcd40155683ae19c65e1c03b4aa3499c5328201f1"
   }
  }
 },
 "nbformat": 4,
 "nbformat_minor": 2
}
