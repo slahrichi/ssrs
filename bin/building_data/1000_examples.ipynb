{
 "cells": [
  {
   "cell_type": "code",
   "execution_count": 5,
   "metadata": {},
   "outputs": [],
   "source": [
    "import numpy as np\n",
    "import os\n",
    "import shutil\n",
    "from natsort import natsorted"
   ]
  },
  {
   "cell_type": "code",
   "execution_count": 12,
   "metadata": {},
   "outputs": [
    {
     "name": "stdout",
     "output_type": "stream",
     "text": [
      "0\n",
      "0\n"
     ]
    }
   ],
   "source": [
    "mask_path = \"/scratch/saad/retiled_train_masks/retiled_train_masks/\"\n",
    "img_path = \"/scratch/saad/retiled_train_images/retiled_train_images/\"\n",
    "\n",
    "mask_val_path = \"/scratch/saad/retiled_val_masks/retiled_val_masks/\"\n",
    "img_val_path = \"/scratch/saad/retiled_val_images/retiled_val_images/\"\n",
    "\n",
    "\n",
    "mask_path = \"/home/sl636/inria/AerialImageDataset/retiled_train_masks/\"\n",
    "img_path = \"/home/sl636/inria/AerialImageDataset/retiled_train_images/\"\n",
    "\n",
    "mask_val_path = \"/home/sl636/inria/AerialImageDataset/retiled_val_masks/\"\n",
    "img_val_path = \"/home/sl636/inria/AerialImageDataset/retiled_val_images/\"\n",
    "\n",
    "images = natsorted(os.listdir(img_path))\n",
    "masks = natsorted(os.listdir(mask_path))\n",
    "\n",
    "val_images = natsorted(os.listdir(img_val_path))\n",
    "val_masks = natsorted(os.listdir(mask_val_path))\n",
    "\n",
    "print(len(set(images).difference(set(masks))))\n",
    "print(len(set(val_images).difference(set(val_masks))))"
   ]
  },
  {
   "cell_type": "code",
   "execution_count": 9,
   "metadata": {},
   "outputs": [],
   "source": [
    "mask_path = \"/home/sl636/inria/AerialImageDataset/retiled_train_masks/\"\n",
    "img_path = \"/home/sl636/inria/AerialImageDataset/retiled_train_images/\"\n",
    "\n",
    "mask_val_path = \"/home/sl636/inria/AerialImageDataset/retiled_val_masks/\"\n",
    "img_val_path = \"/home/sl636/inria/AerialImageDataset/retiled_val_images/\"\n",
    "\n",
    "\n",
    "images = natsorted(os.listdir(img_path))\n",
    "masks = natsorted(os.listdir(mask_path))\n",
    "val_images = natsorted(os.listdir(img_val_path))\n",
    "val_masks = natsorted(os.listdir(mask_val_path))\n",
    "\n",
    "def pick_n_examples(n):\n",
    "\n",
    "        rng = np.random.default_rng(123)\n",
    "        rints = rng.integers(low=0, high=len(images), size=n)\n",
    "\n",
    "        train_path = f\"/scratch/saad/{n}_images/\"\n",
    "        train_mask_path = f\"/scratch/saad/{n}_masks/\"\n",
    "\n",
    "        if not os.path.isdir(train_path):\n",
    "                os.mkdir(train_path)\n",
    "        \n",
    "        if not os.path.isdir(train_mask_path):\n",
    "                os.mkdir(train_mask_path)\n",
    "        \n",
    "        for r in rints:\n",
    "                shutil.copy(img_path+images[r], train_path)\n",
    "                shutil.copy(mask_path+masks[r], train_mask_path)\n",
    "                \n",
    "\n",
    "        rng = np.random.default_rng(123)\n",
    "        rints_val = rng.integers(low=0, high=len(val_images), size=n)\n",
    "\n",
    "        val_path = f\"/scratch/saad/{n}_val_images/\"\n",
    "        val_mask_path = f\"/scratch/saad/{n}_val_masks/\"\n",
    "        \n",
    "\n",
    "        if not os.path.isdir(val_path):\n",
    "                os.mkdir(val_path)\n",
    "        \n",
    "        if not os.path.isdir(val_mask_path):\n",
    "                os.mkdir(val_mask_path)\n",
    "        \n",
    "        for r in rints_val:\n",
    "                shutil.copy(img_val_path+val_images[r], val_path)\n",
    "                shutil.copy(mask_val_path+val_masks[r], val_mask_path)\n",
    "                \n",
    "        print(len(set(os.listdir(train_path)).difference(set(os.listdir(train_mask_path)))))\n",
    "        print(len(set(os.listdir(val_path)).difference(set(os.listdir(val_mask_path)))))\n",
    "\n",
    "for n in [64, 128, 256, 512, 1024]:\n",
    "        pick_n_examples(n)"
   ]
  },
  {
   "cell_type": "code",
   "execution_count": 4,
   "metadata": {},
   "outputs": [
    {
     "name": "stdout",
     "output_type": "stream",
     "text": [
      "24176\n"
     ]
    }
   ],
   "source": [
    "print(len(set(os.listdir(\"/scratch/saad/retiled_train_images/retiled_train_images/\")).difference(set(os.listdir(\"/scratch/saad/retiled_train_masks/retiled_train_masks/\")))))"
   ]
  }
 ],
 "metadata": {
  "kernelspec": {
   "display_name": "Python 3.8.10 64-bit",
   "language": "python",
   "name": "python3"
  },
  "language_info": {
   "codemirror_mode": {
    "name": "ipython",
    "version": 3
   },
   "file_extension": ".py",
   "mimetype": "text/x-python",
   "name": "python",
   "nbconvert_exporter": "python",
   "pygments_lexer": "ipython3",
   "version": "3.8.10"
  },
  "orig_nbformat": 4,
  "vscode": {
   "interpreter": {
    "hash": "916dbcbb3f70747c44a77c7bcd40155683ae19c65e1c03b4aa3499c5328201f1"
   }
  }
 },
 "nbformat": 4,
 "nbformat_minor": 2
}
