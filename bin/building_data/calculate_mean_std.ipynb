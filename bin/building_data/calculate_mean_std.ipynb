{
 "cells": [
  {
   "cell_type": "code",
   "execution_count": 4,
   "metadata": {},
   "outputs": [],
   "source": [
    "import numpy as np\n",
    "import os\n",
    "from PIL import Image"
   ]
  },
  {
   "cell_type": "code",
   "execution_count": 6,
   "metadata": {},
   "outputs": [],
   "source": [
    "img_path = \"/home/sl636/inria/AerialImageDataset/retiled_train_images/\"\n",
    "images = os.listdir(img_path)"
   ]
  },
  {
   "cell_type": "code",
   "execution_count": 18,
   "metadata": {},
   "outputs": [
    {
     "data": {
      "text/plain": [
       "array([0.40644323, 0.4278333 , 0.39377826])"
      ]
     },
     "execution_count": 18,
     "metadata": {},
     "output_type": "execute_result"
    }
   ],
   "source": [
    "mean = np.array([0., 0., 0.])\n",
    "for image in images:\n",
    "    np_img = np.array(Image.open(img_path+image))\n",
    "    np_img = np_img / 255.\n",
    "    for j in range(3):\n",
    "        mean[j] += np.mean(np_img[:,:,j])\n",
    "mean = mean/len(images)\n",
    "mean\n"
   ]
  },
  {
   "cell_type": "code",
   "execution_count": 23,
   "metadata": {},
   "outputs": [
    {
     "data": {
      "text/plain": [
       "array([0.20071833, 0.18272262, 0.1756737 ])"
      ]
     },
     "execution_count": 23,
     "metadata": {},
     "output_type": "execute_result"
    }
   ],
   "source": [
    "std = np.array([0., 0., 0.])\n",
    "std_temp = np.array([0., 0., 0.])\n",
    "\n",
    "\n",
    "for image in images:\n",
    "    np_img = np.array(Image.open(img_path+image))\n",
    "    np_img = np_img / 255.\n",
    "    for j in range(3):\n",
    "        std_temp[j] += ((np_img[:,:,j] - mean[j])**2).sum() / (np_img.shape[0]*np_img.shape[1]) \n",
    "std = np.sqrt(std_temp/len(images))\n",
    "std"
   ]
  }
 ],
 "metadata": {
  "kernelspec": {
   "display_name": "Python 3.9.12 ('base': conda)",
   "language": "python",
   "name": "python3"
  },
  "language_info": {
   "codemirror_mode": {
    "name": "ipython",
    "version": 3
   },
   "file_extension": ".py",
   "mimetype": "text/x-python",
   "name": "python",
   "nbconvert_exporter": "python",
   "pygments_lexer": "ipython3",
   "version": "3.9.12"
  },
  "orig_nbformat": 4,
  "vscode": {
   "interpreter": {
    "hash": "5127ef0b550411f1e2248b20ad8630ee3924a856be94928e85acbbeb0560d7c6"
   }
  }
 },
 "nbformat": 4,
 "nbformat_minor": 2
}
