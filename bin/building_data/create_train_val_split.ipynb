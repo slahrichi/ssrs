{
 "cells": [
  {
   "cell_type": "markdown",
   "metadata": {},
   "source": [
    "Train-Test Split"
   ]
  },
  {
   "cell_type": "code",
   "execution_count": 11,
   "metadata": {},
   "outputs": [],
   "source": [
    "import os\n",
    "import numpy as np\n",
    "import joblib\n",
    "\n",
    "import torch\n",
    "from natsort import natsorted\n",
    "import shutil\n"
   ]
  },
  {
   "cell_type": "code",
   "execution_count": 17,
   "metadata": {},
   "outputs": [],
   "source": [
    "images_path = \"/home/sl636/inria/AerialImageDataset/train/images/\"\n",
    "masks_path = \"/home/sl636/inria/AerialImageDataset/train/gt/\""
   ]
  },
  {
   "cell_type": "code",
   "execution_count": 18,
   "metadata": {},
   "outputs": [],
   "source": [
    "images = natsorted(os.listdir(images_path))\n",
    "masks = natsorted(os.listdir(masks_path))\n"
   ]
  },
  {
   "cell_type": "code",
   "execution_count": 13,
   "metadata": {},
   "outputs": [
    {
     "data": {
      "text/plain": [
       "['austin1.tif',\n",
       " 'austin2.tif',\n",
       " 'austin3.tif',\n",
       " 'austin4.tif',\n",
       " 'austin5.tif',\n",
       " 'chicago1.tif',\n",
       " 'chicago2.tif',\n",
       " 'chicago3.tif',\n",
       " 'chicago4.tif',\n",
       " 'chicago5.tif',\n",
       " 'kitsap1.tif',\n",
       " 'kitsap2.tif',\n",
       " 'kitsap3.tif',\n",
       " 'kitsap4.tif',\n",
       " 'kitsap5.tif',\n",
       " 'tyrol-w1.tif',\n",
       " 'tyrol-w2.tif',\n",
       " 'tyrol-w3.tif',\n",
       " 'tyrol-w4.tif',\n",
       " 'tyrol-w5.tif',\n",
       " 'vienna1.tif',\n",
       " 'vienna2.tif',\n",
       " 'vienna3.tif',\n",
       " 'vienna4.tif',\n",
       " 'vienna5.tif']"
      ]
     },
     "execution_count": 13,
     "metadata": {},
     "output_type": "execute_result"
    }
   ],
   "source": [
    "val_images_names = []\n",
    "for i in range(0, 145, 36):\n",
    "    for j in range(5):\n",
    "        val_images_names.append(images[i+j])\n",
    "val_images_names"
   ]
  },
  {
   "cell_type": "code",
   "execution_count": 15,
   "metadata": {},
   "outputs": [],
   "source": [
    "for image in val_images_names:\n",
    "    shutil.copy(images_path+image, \"/home/sl636/inria/AerialImageDataset/val_images\")\n",
    "    shutil.copy(masks_path+image, \"/home/sl636/inria/AerialImageDataset/val_masks\")\n",
    "    os.remove(images_path+image)\n",
    "    os.remove(masks_path+image)"
   ]
  },
  {
   "cell_type": "code",
   "execution_count": 19,
   "metadata": {},
   "outputs": [],
   "source": [
    "for image in images:\n",
    "    shutil.copy(images_path+image, \"/home/sl636/inria/AerialImageDataset/train_images\")\n",
    "    shutil.copy(masks_path+image, \"/home/sl636/inria/AerialImageDataset/train_masks\" )"
   ]
  },
  {
   "cell_type": "code",
   "execution_count": null,
   "metadata": {},
   "outputs": [],
   "source": []
  }
 ],
 "metadata": {
  "kernelspec": {
   "display_name": "Python 3.8.10 64-bit",
   "language": "python",
   "name": "python3"
  },
  "language_info": {
   "codemirror_mode": {
    "name": "ipython",
    "version": 3
   },
   "file_extension": ".py",
   "mimetype": "text/x-python",
   "name": "python",
   "nbconvert_exporter": "python",
   "pygments_lexer": "ipython3",
   "version": "3.8.10"
  },
  "orig_nbformat": 4,
  "vscode": {
   "interpreter": {
    "hash": "916dbcbb3f70747c44a77c7bcd40155683ae19c65e1c03b4aa3499c5328201f1"
   }
  }
 },
 "nbformat": 4,
 "nbformat_minor": 2
}
