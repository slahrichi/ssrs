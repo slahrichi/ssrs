{
 "cells": [
  {
   "cell_type": "markdown",
   "metadata": {},
   "source": [
    "# In this notebook\n",
    "This notebook runs the code from `create_masks.py` in the notebook. Turns out that\n",
    "this code runs quickly enough that this is no problem."
   ]
  },
  {
   "cell_type": "code",
   "execution_count": 1,
   "metadata": {
    "vscode": {
     "languageId": "python"
    }
   },
   "outputs": [],
   "source": [
    "import os\n",
    "import argparse\n",
    "\n",
    "from PIL import Image, ImageDraw\n",
    "\n",
    "import pandas as pd"
   ]
  },
  {
   "cell_type": "code",
   "execution_count": 2,
   "metadata": {
    "vscode": {
     "languageId": "python"
    }
   },
   "outputs": [],
   "source": [
    "dump_path = '/scratch/zach/masks_raw/'"
   ]
  },
  {
   "cell_type": "code",
   "execution_count": 4,
   "metadata": {
    "vscode": {
     "languageId": "python"
    }
   },
   "outputs": [
    {
     "name": "stdout",
     "output_type": "stream",
     "text": [
      "412 files to read...\n"
     ]
    }
   ],
   "source": [
    "# Get list of masks that we want to generate:\n",
    "fresno_dir = \"/home/zdc6/data/SolarPV/fresno/\"\n",
    "files = list(filter(lambda x: x.split(\".\")[-1] == \"tif\", os.listdir(fresno_dir)))\n",
    "print(f\"{len(files)} files to read...\")\n",
    "# Get references\n",
    "image_map = pd.read_csv(\n",
    "\t\"/home/zdc6/data/SolarPV/polygonDataExceptVertices.csv\", index_col=0\n",
    ").set_index(\"image_name\")\n",
    "\n",
    "polygon_vertices = pd.read_csv(\n",
    "\t\"/home/zdc6/data/SolarPV/polygonVertices_PixelCoordinates.csv\"\n",
    ").set_index(\"polygon_id\")"
   ]
  },
  {
   "cell_type": "code",
   "execution_count": null,
   "metadata": {
    "vscode": {
     "languageId": "python"
    }
   },
   "outputs": [],
   "source": [
    "key_errors = []\n",
    "attr_errors = []\n",
    "# Iterate through each image.\n",
    "count = 0\n",
    "polygon_count = 0\n",
    "for fn in files:\n",
    "\tprint(f\"Reading file {fn}...\")\n",
    "\timage_name = fn.split(\".\")[0]\n",
    "\t# Get polygons for this image.\n",
    "\ttry:\n",
    "\t\tpolygons = image_map.loc[image_name]\n",
    "\texcept KeyError:\n",
    "\t\tprint(f\"No polygons found for image {image_name}\")\n",
    "\t\tcount += 1\n",
    "\t\tcontinue\n",
    "\n",
    "\t# Create new blank image and drawing\n",
    "\tnew_img = Image.new(str(1), (5000, 5000), color=0)\n",
    "\tmask = ImageDraw.Draw(new_img)\n",
    "\n",
    "\t# Loop through all of the polygons:\n",
    "\ttry:\n",
    "\t\tfor idx, polygon in polygons.iterrows():\n",
    "\t\t\ttry:\n",
    "\t\t\t\tvertices = polygon_vertices.loc[int(polygon[\"polygon_id\"])]\n",
    "\t\t\t\tpolygon_count += 1\n",
    "\t\t\texcept KeyError:\n",
    "\t\t\t\tkey_errors.append(fn)\n",
    "\t\t\t\tcontinue\n",
    "\t\t\tvertices = [i for i in vertices[1:] if not (pd.isna(i))]\n",
    "\t\t\tmask.polygon(vertices, fill=1)\n",
    "\texcept AttributeError:\n",
    "\t\tattr_errors.append(fn)\n",
    "\t\t# If there is no attribute, don't iterate through\n",
    "\t\tvertices = polygon_vertices.loc[int(polygons[\"polygon_id\"])]\n",
    "\t\tpolygon_count += 1\n",
    "\t\tvertices = [i for i in vertices[1:] if not (pd.isna(i))]\n",
    "\t\tmask.polygon(vertices, fill=1)\n",
    "\n",
    "\tprint(\"Saving image...\")\n",
    "\tcount += 1\n",
    "\tnew_img.save(dump_path + fn)"
   ]
  }
 ],
 "metadata": {
  "kernelspec": {
   "display_name": "Python 3",
   "language": "python",
   "name": "python3"
  },
  "orig_nbformat": 4
 },
 "nbformat": 4,
 "nbformat_minor": 2
}
