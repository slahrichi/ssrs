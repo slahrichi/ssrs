{
 "cells": [
  {
   "cell_type": "code",
   "execution_count": null,
   "metadata": {},
   "outputs": [],
   "source": [
    "import numpy as np\n",
    "import pandas as pd\n",
    "import matplotlib.pyplot as plt\n",
    "import matplotlib.image as mpimg\n",
    "import cv2"
   ]
  },
  {
   "cell_type": "code",
   "execution_count": null,
   "metadata": {},
   "outputs": [],
   "source": [
    "# data_file = '/data/shared/satellite_derived_feature/MA/MA_features_resnet50_imagenet.feather'\n",
    "# data_file = '/data/shared/satellite_derived_feature/MA/MA_features_resnet50_swav_imagenet.feather'\n",
    "# data_file = '/data/shared/satellite_derived_feature/Denmark/Denmark_features_resnet50_imagenet.feather'\n",
    "# data_file = '/data/shared/satellite_derived_feature/Denmark/Denmark_features_resnet50_swav_imagenet.feather'\n",
    "# data_file = '/data/shared/satellite_derived_feature/MI/MI_features_resnet50_swav_imagenet.feather'\n",
    "# data_file = '/data/shared/satellite_derived_feature/MI/MI_features_resnet50_imagenet.feather'\n",
    "# data_file = '/data/shared/satellite_derived_feature/Mexico/Mexico_features_resnet50_imagenet.feather'\n",
    "data_file = '/data/shared/satellite_derived_feature/Mexico/Mexico_features_resnet50_swav_imagenet.feather'\n",
    "data = pd.read_feather(data_file)"
   ]
  },
  {
   "cell_type": "code",
   "execution_count": null,
   "metadata": {},
   "outputs": [],
   "source": [
    "data"
   ]
  },
  {
   "cell_type": "code",
   "execution_count": null,
   "metadata": {},
   "outputs": [],
   "source": [
    "feather_array = data[['features_{}'.format(i) for i in range(2048)]].values"
   ]
  },
  {
   "cell_type": "code",
   "execution_count": 5,
   "metadata": {},
   "outputs": [
    {
     "ename": "KeyboardInterrupt",
     "evalue": "",
     "output_type": "error",
     "traceback": [
      "\u001b[0;31m---------------------------------------------------------------------------\u001b[0m",
      "\u001b[0;31mKeyboardInterrupt\u001b[0m                         Traceback (most recent call last)",
      "File \u001b[0;32m<__array_function__ internals>:177\u001b[0m, in \u001b[0;36mwhere\u001b[0;34m(*args, **kwargs)\u001b[0m\n",
      "\u001b[0;31mKeyboardInterrupt\u001b[0m: "
     ]
    },
    {
     "name": "stderr",
     "output_type": "stream",
     "text": [
      "Exception ignored in: 'sklearn.cluster._k_means_common._relocate_empty_clusters_dense'\n",
      "Traceback (most recent call last):\n",
      "  File \"<__array_function__ internals>\", line 177, in where\n",
      "KeyboardInterrupt: \n"
     ]
    }
   ],
   "source": [
    "# Start the clustering\n",
    "from sklearn.cluster import KMeans\n",
    "random_state = 42\n",
    "cluster_list = [10, 20, 30, 40, 50, 100, 200]\n",
    "cluster_dict = {}\n",
    "for n_cluster in cluster_list:\n",
    "    y_pred = KMeans(n_clusters=n_cluster, random_state=random_state).fit_predict(feather_array)\n",
    "    cluster_dict[n_cluster] = np.copy(y_pred)\n",
    "\n"
   ]
  },
  {
   "cell_type": "code",
   "execution_count": null,
   "metadata": {},
   "outputs": [],
   "source": [
    "# Put the clustered index back into the data frame\n",
    "for n_cluster in cluster_list:\n",
    "    data['cluster_index_{}'.format(n_cluster)] = cluster_dict[n_cluster]"
   ]
  },
  {
   "cell_type": "code",
   "execution_count": null,
   "metadata": {},
   "outputs": [],
   "source": [
    "# Save the data frame to a feather format\n",
    "data.to_feather(data_file)"
   ]
  },
  {
   "cell_type": "code",
   "execution_count": null,
   "metadata": {},
   "outputs": [],
   "source": [
    "data"
   ]
  },
  {
   "cell_type": "code",
   "execution_count": null,
   "metadata": {},
   "outputs": [],
   "source": [
    "\n",
    "import math\n",
    "def mean_white_balance(img):\n",
    "    \"\"\"\n",
    "    第一种简单的求均值白平衡法\n",
    "    :param img: cv2.imread读取的图片数据\n",
    "    :return: 返回的白平衡结果图片数据\n",
    "    \"\"\"\n",
    "    # 读取图像\n",
    "    b, g, r = cv2.split(img)\n",
    "    r_avg = cv2.mean(r)[0]\n",
    "    g_avg = cv2.mean(g)[0]\n",
    "    b_avg = cv2.mean(b)[0]\n",
    "    # 求各个通道所占增益\n",
    "    k = (r_avg + g_avg + b_avg) / 3\n",
    "    kr = k / r_avg\n",
    "    kg = k / g_avg\n",
    "    kb = k / b_avg\n",
    "    r = cv2.addWeighted(src1=r, alpha=kr, src2=0, beta=0, gamma=0)\n",
    "    g = cv2.addWeighted(src1=g, alpha=kg, src2=0, beta=0, gamma=0)\n",
    "    b = cv2.addWeighted(src1=b, alpha=kb, src2=0, beta=0, gamma=0)\n",
    "    balance_img = cv2.merge([b, g, r])\n",
    "    return balance_img\n",
    "def increase_brightness(img, value=60):\n",
    "    hsv = cv2.cvtColor(img, cv2.COLOR_BGR2HSV)\n",
    "    h, s, v = cv2.split(hsv)\n",
    "\n",
    "    lim = 255 - value\n",
    "    v[v > lim] = 255\n",
    "    v[v <= lim] += value\n",
    "\n",
    "    final_hsv = cv2.merge((h, s, v))\n",
    "    img = cv2.cvtColor(final_hsv, cv2.COLOR_HSV2BGR)\n",
    "    return img\n",
    "    \n"
   ]
  },
  {
   "cell_type": "code",
   "execution_count": null,
   "metadata": {},
   "outputs": [],
   "source": [
    "# Visualize the same cluster imgs\n",
    "\n",
    "def visualize_images_batch(img_list ,n_by_n=3):\n",
    "    \"\"\"\n",
    "    Visualize the images into a big batch\n",
    "    \"\"\"\n",
    "    assert len(img_list) == n_by_n * n_by_n, 'Your number of img provides is {} but the plotting wants to do {} by {}'.format(len(img_list), n_by_n, n_by_n)\n",
    "    f = plt.figure(figsize=[15,15])\n",
    "    z = 1\n",
    "    for i in range(n_by_n):\n",
    "        for j in range(n_by_n):\n",
    "            ax = plt.subplot(int('{}{}{}'.format(n_by_n, n_by_n, z)))\n",
    "            img = mpimg.imread(img_list[z - 1])\n",
    "            # Version 1 white balance\n",
    "            # Version 2 white balance\n",
    "            result = mean_white_balance(img)\n",
    "            # image_norm = cv2.normalize(result, None, alpha=0,beta=200, norm_type=cv2.NORM_MINMAX)\n",
    "\n",
    "            result = increase_brightness(result)\n",
    "            imgplot = plt.imshow(result)\n",
    "            plt.axis('off')\n",
    "            z += 1\n",
    "    plt.tight_layout()\n",
    "    plt.show()\n",
    "    "
   ]
  },
  {
   "cell_type": "markdown",
   "metadata": {},
   "source": [
    "# Visualize the clusters"
   ]
  },
  {
   "cell_type": "code",
   "execution_count": null,
   "metadata": {},
   "outputs": [],
   "source": [
    "import numpy as np\n",
    "import pandas as pd\n",
    "import matplotlib.pyplot as plt\n",
    "data_file = '/data/shared/satellite_derived_feature/MA/MA_features_resnet50_imagenet.feather'\n",
    "data = pd.read_feather(data_file)"
   ]
  },
  {
   "cell_type": "code",
   "execution_count": null,
   "metadata": {},
   "outputs": [],
   "source": [
    "visualize_images_batch(data['img'][:9])"
   ]
  },
  {
   "cell_type": "code",
   "execution_count": null,
   "metadata": {},
   "outputs": [],
   "source": []
  }
 ],
 "metadata": {
  "kernelspec": {
   "display_name": "Python 3.10.5 ('ee': conda)",
   "language": "python",
   "name": "python3"
  },
  "language_info": {
   "codemirror_mode": {
    "name": "ipython",
    "version": 3
   },
   "file_extension": ".py",
   "mimetype": "text/x-python",
   "name": "python",
   "nbconvert_exporter": "python",
   "pygments_lexer": "ipython3",
   "version": "3.10.5"
  },
  "orig_nbformat": 4,
  "vscode": {
   "interpreter": {
    "hash": "13c1d8600f2b62cf4388a5a837e35bc0f8fb6aba4cab5a851905adb6da114c78"
   }
  }
 },
 "nbformat": 4,
 "nbformat_minor": 2
}
