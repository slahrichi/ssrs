{
 "cells": [
  {
   "cell_type": "code",
   "execution_count": 1,
   "metadata": {},
   "outputs": [
    {
     "ename": "ImportError",
     "evalue": "/home/sl636/miniconda3/envs/geospatial/lib/python3.10/site-packages/../../././libgnutls.so.30: undefined symbol: mpn_copyi, version HOGWEED_6",
     "output_type": "error",
     "traceback": [
      "\u001b[0;31m---------------------------------------------------------------------------\u001b[0m",
      "\u001b[0;31mImportError\u001b[0m                               Traceback (most recent call last)",
      "\u001b[1;32m/home/sl636/temp_ssrs/ssrs/src/test_dataset.ipynb Cell 1\u001b[0m in \u001b[0;36m<cell line: 1>\u001b[0;34m()\u001b[0m\n\u001b[0;32m----> <a href='vscode-notebook-cell://ssh-remote%2Bpizer.egr.duke.edu/home/sl636/temp_ssrs/ssrs/src/test_dataset.ipynb#ch0000000vscode-remote?line=0'>1</a>\u001b[0m \u001b[39mfrom\u001b[39;00m \u001b[39mtasks\u001b[39;00m\u001b[39m.\u001b[39;00m\u001b[39mbuilding\u001b[39;00m \u001b[39mimport\u001b[39;00m BuildingSegmentationDataset\n",
      "File \u001b[0;32m/data/users/sl636/temp_ssrs/ssrs/src/tasks/building.py:3\u001b[0m, in \u001b[0;36m<module>\u001b[0;34m\u001b[0m\n\u001b[1;32m      1\u001b[0m \u001b[39mimport\u001b[39;00m \u001b[39mos\u001b[39;00m\n\u001b[1;32m      2\u001b[0m \u001b[39mimport\u001b[39;00m \u001b[39mnumpy\u001b[39;00m \u001b[39mas\u001b[39;00m \u001b[39mnp\u001b[39;00m\n\u001b[0;32m----> 3\u001b[0m \u001b[39mimport\u001b[39;00m \u001b[39mcv2\u001b[39;00m\n\u001b[1;32m      4\u001b[0m \u001b[39mfrom\u001b[39;00m \u001b[39mPIL\u001b[39;00m \u001b[39mimport\u001b[39;00m Image\n\u001b[1;32m      6\u001b[0m \u001b[39mimport\u001b[39;00m \u001b[39mtorch\u001b[39;00m\n",
      "\u001b[0;31mImportError\u001b[0m: /home/sl636/miniconda3/envs/geospatial/lib/python3.10/site-packages/../../././libgnutls.so.30: undefined symbol: mpn_copyi, version HOGWEED_6"
     ]
    }
   ],
   "source": [
    "from tasks.building import BuildingSegmentationDatasetconda \n"
   ]
  },
  {
   "cell_type": "code",
   "execution_count": null,
   "metadata": {},
   "outputs": [],
   "source": [
    "def _load_building_data(normalization, augmentations):\n",
    "    # Paths to train and test set (as split from INRIA)\n",
    "    train_imgs_path = \"/scratch/saad/1000_images/\"\n",
    "    train_masks_path = \"/scratch/saad/1000_masks/\"\n",
    "    val_imgs_path = \"/scratch/saad/1000_val_images/\"\n",
    "    val_masks_path = \"/scratch/saad/1000_val_masks/\"\n",
    "\n",
    "    train_imgs = os.listdir(train_imgs_path)\n",
    "    val_imgs = os.listdir(val_imgs_path)\n",
    "\n",
    "    logging.debug(\n",
    "        f\"We are using {len(train_imgs)} training images and {len(val_imgs)} validation images from the INRIA building dataset.\")\n",
    "\n",
    "    # We want to ensure that the normalization scheme is considered. In the case\n",
    "    # that we are using a pretrained method, it might be better to use that\n",
    "    # pretrained normalization mean and standard deviation. Otherwise, it would\n",
    "    # be better to use the normalization scheme applied on the original dataset.\n",
    "    # By specifying 'data', we are saying that we want to use the calculated\n",
    "    # mean and standard deviation on the dataset. Other normalization methods\n",
    "    # should be added as more pre-trained methods are supported.\n",
    "    if normalization == 'data':\n",
    "        # This normalization was calculated by taking several sample\n",
    "        # images (as tensors) and calculating the average RGB value along with the\n",
    "        # standard deviation.\n",
    "        print(\"Normalizing using the data.\")\n",
    "        normalize = {\n",
    "            'mean': [0.406, 0.428, 0.394],\n",
    "            'std': [0.201, 0.183, 0.176]\n",
    "        }\n",
    "    elif normalization == 'imagenet':\n",
    "        print(\"Normalize using imagenet.\")\n",
    "        # This normalization scheme uses the means and weights for ImageNet.\n",
    "        normalize = {\n",
    "            'mean': [0.485, 0.456, 0.406],\n",
    "            'std': [0.229, 0.224, 0.225]\n",
    "        }\n",
    "    else:\n",
    "        raise NotImplementedError(\"This normalization scheme isn't supported.\")\n",
    "\n",
    "    # Include everything but the kitchen sink...\n",
    "    # we want a large collection of transformations.\n",
    "    # The first four ensure that each image is represented\n",
    "    # in 8 separate ways...the next 3 transformations\n",
    "    # affect the coloration and pixel values, whereas\n",
    "    # the final 2 ensure that the image is in a format\n",
    "    # that the model likes.\n",
    "    \n",
    "    tr_normalize = transforms.Normalize(\n",
    "        mean=normalize['mean'], std=normalize['std']\n",
    "    )\n",
    "\n",
    "    train_transform = transforms.Compose(\n",
    "        [\n",
    "            transforms.ToTensor(),\n",
    "            tr_normalize\n",
    "        ]\n",
    "    )\n",
    "\n",
    "    test_transform = transforms.Compose(\n",
    "        [transforms.ToTensor(), tr_normalize]\n",
    "    )\n",
    "\n",
    "    # Load the training dataset\n",
    "    logging.debug(\"Creating the training dataset.\")\n",
    "    if augmentations:\n",
    "        train_dataset = BuildingSegmentationDataset(\n",
    "            train_imgs_path, train_imgs, train_masks_path,\n",
    "            transform=train_transform, augmentations=aug\n",
    "        )\n",
    "    else:\n",
    "        train_dataset = BuildingSegmentationDataset(\n",
    "            train_imgs_path, train_imgs, train_masks_path,\n",
    "            transform=train_transform\n",
    "        )\n",
    "    # Load the test dataset\n",
    "    logging.debug(\"Creating the test dataset.\")\n",
    "    test_dataset = BuildingSegmentationDataset(\n",
    "        val_imgs_path, val_imgs, val_masks_path,\n",
    "        transform=test_transform\n",
    "    )\n",
    "    # Return the training and test dataset\n",
    "    return train_dataset, test_dataset\n"
   ]
  }
 ],
 "metadata": {
  "kernelspec": {
   "display_name": "Python 3.10.5 ('geospatial')",
   "language": "python",
   "name": "python3"
  },
  "language_info": {
   "codemirror_mode": {
    "name": "ipython",
    "version": 3
   },
   "file_extension": ".py",
   "mimetype": "text/x-python",
   "name": "python",
   "nbconvert_exporter": "python",
   "pygments_lexer": "ipython3",
   "version": "3.10.5"
  },
  "orig_nbformat": 4,
  "vscode": {
   "interpreter": {
    "hash": "c4fe946d1292f46b91755f29bc9c3a0cafa14609bb0b3929a3893d7fc8de6684"
   }
  }
 },
 "nbformat": 4,
 "nbformat_minor": 2
}
