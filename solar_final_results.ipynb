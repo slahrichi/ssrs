{
 "cells": [
  {
   "cell_type": "code",
   "execution_count": 2,
   "metadata": {},
   "outputs": [],
   "source": [
    "import pandas as pd \n",
    "import matplotlib.pyplot as plt"
   ]
  },
  {
   "cell_type": "code",
   "execution_count": 3,
   "metadata": {},
   "outputs": [],
   "source": [
    "df = pd.read_csv('./solar_batch_results.csv', index_col=0)"
   ]
  },
  {
   "cell_type": "code",
   "execution_count": 4,
   "metadata": {},
   "outputs": [
    {
     "data": {
      "text/html": [
       "<div>\n",
       "<style scoped>\n",
       "    .dataframe tbody tr th:only-of-type {\n",
       "        vertical-align: middle;\n",
       "    }\n",
       "\n",
       "    .dataframe tbody tr th {\n",
       "        vertical-align: top;\n",
       "    }\n",
       "\n",
       "    .dataframe thead th {\n",
       "        text-align: right;\n",
       "    }\n",
       "</style>\n",
       "<table border=\"1\" class=\"dataframe\">\n",
       "  <thead>\n",
       "    <tr style=\"text-align: right;\">\n",
       "      <th></th>\n",
       "      <th>datasize</th>\n",
       "      <th>encoder</th>\n",
       "      <th>trial</th>\n",
       "      <th>iou</th>\n",
       "      <th>max_f1</th>\n",
       "    </tr>\n",
       "  </thead>\n",
       "  <tbody>\n",
       "    <tr>\n",
       "      <th>0</th>\n",
       "      <td>64</td>\n",
       "      <td>supervised</td>\n",
       "      <td>t1</td>\n",
       "      <td>0.172617</td>\n",
       "      <td>0.298067</td>\n",
       "    </tr>\n",
       "    <tr>\n",
       "      <th>1</th>\n",
       "      <td>64</td>\n",
       "      <td>supervised</td>\n",
       "      <td>t2</td>\n",
       "      <td>0.121763</td>\n",
       "      <td>0.217292</td>\n",
       "    </tr>\n",
       "    <tr>\n",
       "      <th>2</th>\n",
       "      <td>64</td>\n",
       "      <td>supervised</td>\n",
       "      <td>t3</td>\n",
       "      <td>0.219780</td>\n",
       "      <td>0.360443</td>\n",
       "    </tr>\n",
       "    <tr>\n",
       "      <th>3</th>\n",
       "      <td>64</td>\n",
       "      <td>swav-imagenet</td>\n",
       "      <td>t1</td>\n",
       "      <td>0.384871</td>\n",
       "      <td>0.556853</td>\n",
       "    </tr>\n",
       "    <tr>\n",
       "      <th>4</th>\n",
       "      <td>64</td>\n",
       "      <td>swav-imagenet</td>\n",
       "      <td>t2</td>\n",
       "      <td>0.344103</td>\n",
       "      <td>0.516569</td>\n",
       "    </tr>\n",
       "  </tbody>\n",
       "</table>\n",
       "</div>"
      ],
      "text/plain": [
       "   datasize        encoder trial       iou    max_f1\n",
       "0        64     supervised    t1  0.172617  0.298067\n",
       "1        64     supervised    t2  0.121763  0.217292\n",
       "2        64     supervised    t3  0.219780  0.360443\n",
       "3        64  swav-imagenet    t1  0.384871  0.556853\n",
       "4        64  swav-imagenet    t2  0.344103  0.516569"
      ]
     },
     "execution_count": 4,
     "metadata": {},
     "output_type": "execute_result"
    }
   ],
   "source": [
    "df.head()"
   ]
  },
  {
   "cell_type": "code",
   "execution_count": 20,
   "metadata": {},
   "outputs": [],
   "source": [
    "df_pivot = pd.pivot_table(df, values = 'iou', index='datasize', columns='encoder', aggfunc=('mean', 'std'))"
   ]
  },
  {
   "cell_type": "code",
   "execution_count": 25,
   "metadata": {},
   "outputs": [
    {
     "data": {
      "text/html": [
       "<div>\n",
       "<style scoped>\n",
       "    .dataframe tbody tr th:only-of-type {\n",
       "        vertical-align: middle;\n",
       "    }\n",
       "\n",
       "    .dataframe tbody tr th {\n",
       "        vertical-align: top;\n",
       "    }\n",
       "\n",
       "    .dataframe thead tr th {\n",
       "        text-align: left;\n",
       "    }\n",
       "\n",
       "    .dataframe thead tr:last-of-type th {\n",
       "        text-align: right;\n",
       "    }\n",
       "</style>\n",
       "<table border=\"1\" class=\"dataframe\">\n",
       "  <thead>\n",
       "    <tr>\n",
       "      <th></th>\n",
       "      <th colspan=\"3\" halign=\"left\">mean</th>\n",
       "      <th colspan=\"3\" halign=\"left\">std</th>\n",
       "    </tr>\n",
       "    <tr>\n",
       "      <th>encoder</th>\n",
       "      <th>supervised</th>\n",
       "      <th>swav-imagenet</th>\n",
       "      <th>swav-s3</th>\n",
       "      <th>supervised</th>\n",
       "      <th>swav-imagenet</th>\n",
       "      <th>swav-s3</th>\n",
       "    </tr>\n",
       "    <tr>\n",
       "      <th>datasize</th>\n",
       "      <th></th>\n",
       "      <th></th>\n",
       "      <th></th>\n",
       "      <th></th>\n",
       "      <th></th>\n",
       "      <th></th>\n",
       "    </tr>\n",
       "  </thead>\n",
       "  <tbody>\n",
       "    <tr>\n",
       "      <th>64</th>\n",
       "      <td>0.171387</td>\n",
       "      <td>0.383006</td>\n",
       "      <td>0.250330</td>\n",
       "      <td>0.049020</td>\n",
       "      <td>0.038004</td>\n",
       "      <td>0.183313</td>\n",
       "    </tr>\n",
       "    <tr>\n",
       "      <th>128</th>\n",
       "      <td>0.394169</td>\n",
       "      <td>0.487972</td>\n",
       "      <td>0.439616</td>\n",
       "      <td>0.092368</td>\n",
       "      <td>0.041566</td>\n",
       "      <td>0.040758</td>\n",
       "    </tr>\n",
       "    <tr>\n",
       "      <th>256</th>\n",
       "      <td>0.550868</td>\n",
       "      <td>0.574077</td>\n",
       "      <td>0.607227</td>\n",
       "      <td>0.021109</td>\n",
       "      <td>0.030099</td>\n",
       "      <td>0.030055</td>\n",
       "    </tr>\n",
       "    <tr>\n",
       "      <th>512</th>\n",
       "      <td>0.584953</td>\n",
       "      <td>0.677261</td>\n",
       "      <td>0.646850</td>\n",
       "      <td>0.022368</td>\n",
       "      <td>0.005915</td>\n",
       "      <td>0.015027</td>\n",
       "    </tr>\n",
       "    <tr>\n",
       "      <th>1024</th>\n",
       "      <td>0.641417</td>\n",
       "      <td>0.692217</td>\n",
       "      <td>0.713648</td>\n",
       "      <td>0.012642</td>\n",
       "      <td>0.002192</td>\n",
       "      <td>0.035583</td>\n",
       "    </tr>\n",
       "  </tbody>\n",
       "</table>\n",
       "</div>"
      ],
      "text/plain": [
       "               mean                                std                        \n",
       "encoder  supervised swav-imagenet   swav-s3 supervised swav-imagenet   swav-s3\n",
       "datasize                                                                      \n",
       "64         0.171387      0.383006  0.250330   0.049020      0.038004  0.183313\n",
       "128        0.394169      0.487972  0.439616   0.092368      0.041566  0.040758\n",
       "256        0.550868      0.574077  0.607227   0.021109      0.030099  0.030055\n",
       "512        0.584953      0.677261  0.646850   0.022368      0.005915  0.015027\n",
       "1024       0.641417      0.692217  0.713648   0.012642      0.002192  0.035583"
      ]
     },
     "execution_count": 25,
     "metadata": {},
     "output_type": "execute_result"
    }
   ],
   "source": [
    "df_pivot"
   ]
  },
  {
   "cell_type": "code",
   "execution_count": 6,
   "metadata": {},
   "outputs": [
    {
     "data": {
      "text/plain": [
       "<matplotlib.legend.Legend at 0x7fd107b43910>"
      ]
     },
     "execution_count": 6,
     "metadata": {},
     "output_type": "execute_result"
    },
    {
     "data": {
      "image/png": "[encoded data removed]",
      "text/plain": [
       "<Figure size 432x288 with 1 Axes>"
      ]
     },
     "metadata": {
      "needs_background": "light"
     },
     "output_type": "display_data"
    }
   ],
   "source": [
    "plt.plot(df_pivot.index, df_pivot['supervised'], label='supervised')\n",
    "plt.plot(df_pivot.index, df_pivot['swav-imagenet'], label='swav')\n",
    "plt.plot(df_pivot.index, df_pivot['swav-s3'], label='swav+pretraining')\n",
    "plt.xscale('log')\n",
    "plt.xlabel(\"Datasize\")\n",
    "plt.ylabel(\"Pixel IoU\")\n",
    "plt.legend()"
   ]
  },
  {
   "cell_type": "code",
   "execution_count": 11,
   "metadata": {},
   "outputs": [],
   "source": [
    "df2 = pd.read_csv('./solar_swav-s4_batch_results.csv', index_col=0)"
   ]
  },
  {
   "cell_type": "code",
   "execution_count": 13,
   "metadata": {},
   "outputs": [],
   "source": [
    "df2_pivot = pd.pivot_table(df2, values = 'iou', index='datasize', columns='encoder')"
   ]
  },
  {
   "cell_type": "code",
   "execution_count": 15,
   "metadata": {},
   "outputs": [
    {
     "data": {
      "text/plain": [
       "<matplotlib.legend.Legend at 0x7fd10776e5e0>"
      ]
     },
     "execution_count": 15,
     "metadata": {},
     "output_type": "execute_result"
    },
    {
     "data": {
      "image/png": "[encoded data removed]",
      "text/plain": [
       "<Figure size 432x288 with 1 Axes>"
      ]
     },
     "metadata": {
      "needs_background": "light"
     },
     "output_type": "display_data"
    }
   ],
   "source": [
    "plt.plot(df_pivot.index, df_pivot['supervised'], label='supervised')\n",
    "plt.plot(df_pivot.index, df_pivot['swav-imagenet'], label='swav')\n",
    "# plt.plot(df_pivot.index, df_pivot['swav-s3'], label='swav+pretraining')\n",
    "plt.plot(df2_pivot.index, df2_pivot['swav-s4'], label='swav+pretraining v2')\n",
    "plt.xscale('log')\n",
    "plt.xlabel(\"Datasize\")\n",
    "plt.ylabel(\"Pixel IoU\")\n",
    "plt.legend()"
   ]
  },
  {
   "cell_type": "code",
   "execution_count": 17,
   "metadata": {},
   "outputs": [],
   "source": [
    "df2_pivot = pd.pivot_table(df2, values = 'iou', index='datasize', columns='encoder', aggfunc=('mean', 'std'))"
   ]
  },
  {
   "cell_type": "code",
   "execution_count": 18,
   "metadata": {},
   "outputs": [
    {
     "data": {
      "text/html": [
       "<div>\n",
       "<style scoped>\n",
       "    .dataframe tbody tr th:only-of-type {\n",
       "        vertical-align: middle;\n",
       "    }\n",
       "\n",
       "    .dataframe tbody tr th {\n",
       "        vertical-align: top;\n",
       "    }\n",
       "\n",
       "    .dataframe thead tr th {\n",
       "        text-align: left;\n",
       "    }\n",
       "\n",
       "    .dataframe thead tr:last-of-type th {\n",
       "        text-align: right;\n",
       "    }\n",
       "</style>\n",
       "<table border=\"1\" class=\"dataframe\">\n",
       "  <thead>\n",
       "    <tr>\n",
       "      <th></th>\n",
       "      <th>mean</th>\n",
       "      <th>std</th>\n",
       "    </tr>\n",
       "    <tr>\n",
       "      <th>encoder</th>\n",
       "      <th>swav-s4</th>\n",
       "      <th>swav-s4</th>\n",
       "    </tr>\n",
       "    <tr>\n",
       "      <th>datasize</th>\n",
       "      <th></th>\n",
       "      <th></th>\n",
       "    </tr>\n",
       "  </thead>\n",
       "  <tbody>\n",
       "    <tr>\n",
       "      <th>64</th>\n",
       "      <td>0.399581</td>\n",
       "      <td>0.088210</td>\n",
       "    </tr>\n",
       "    <tr>\n",
       "      <th>128</th>\n",
       "      <td>0.519314</td>\n",
       "      <td>0.010297</td>\n",
       "    </tr>\n",
       "    <tr>\n",
       "      <th>256</th>\n",
       "      <td>0.582609</td>\n",
       "      <td>0.009987</td>\n",
       "    </tr>\n",
       "    <tr>\n",
       "      <th>512</th>\n",
       "      <td>0.632939</td>\n",
       "      <td>0.007460</td>\n",
       "    </tr>\n",
       "    <tr>\n",
       "      <th>1024</th>\n",
       "      <td>0.695052</td>\n",
       "      <td>0.005399</td>\n",
       "    </tr>\n",
       "  </tbody>\n",
       "</table>\n",
       "</div>"
      ],
      "text/plain": [
       "              mean       std\n",
       "encoder    swav-s4   swav-s4\n",
       "datasize                    \n",
       "64        0.399581  0.088210\n",
       "128       0.519314  0.010297\n",
       "256       0.582609  0.009987\n",
       "512       0.632939  0.007460\n",
       "1024      0.695052  0.005399"
      ]
     },
     "execution_count": 18,
     "metadata": {},
     "output_type": "execute_result"
    }
   ],
   "source": [
    "df2_pivot"
   ]
  },
  {
   "cell_type": "code",
   "execution_count": 19,
   "metadata": {},
   "outputs": [
    {
     "data": {
      "text/plain": [
       "MultiIndex([('mean', 'swav-s4'),\n",
       "            ( 'std', 'swav-s4')],\n",
       "           names=[None, 'encoder'])"
      ]
     },
     "execution_count": 19,
     "metadata": {},
     "output_type": "execute_result"
    }
   ],
   "source": [
    "df2_pivot.columns"
   ]
  },
  {
   "cell_type": "code",
   "execution_count": 27,
   "metadata": {},
   "outputs": [
    {
     "data": {
      "text/plain": [
       "<matplotlib.legend.Legend at 0x7fd1079b4fa0>"
      ]
     },
     "execution_count": 27,
     "metadata": {},
     "output_type": "execute_result"
    },
    {
     "data": {
      "image/png": "[encoded data removed]",
      "text/plain": [
       "<Figure size 432x288 with 1 Axes>"
      ]
     },
     "metadata": {
      "needs_background": "light"
     },
     "output_type": "display_data"
    }
   ],
   "source": [
    "plt.errorbar(df_pivot.index, df_pivot[('mean','supervised')], yerr=df_pivot[('std', 'supervised')], label='supervised')\n",
    "plt.errorbar(df_pivot.index, df_pivot[('mean','swav-imagenet')], yerr=df_pivot[('std', 'swav-imagenet')], label='swav')\n",
    "plt.errorbar(df2_pivot.index, df2_pivot[('mean','swav-s4')], yerr=df2_pivot[('std', 'swav-s4')], label='swav+pretraining 2')\n",
    "# plt.errorbar(df_pivot.index, df_pivot['swav-imagenet'], label='swav')\n",
    "# # plt.plot(df_pivot.index, df_pivot['swav-s3'], label='swav+pretraining')\n",
    "# plt.errorbar(df2_pivot.index, df2_pivot['swav-s4'], label='swav+pretraining v2')\n",
    "plt.xscale('log')\n",
    "plt.xlabel(\"Datasize\")\n",
    "plt.ylabel(\"Pixel IoU\")\n",
    "plt.legend()"
   ]
  }
 ],
 "metadata": {
  "kernelspec": {
   "display_name": "Python 3.8.9 64-bit",
   "language": "python",
   "name": "python3"
  },
  "language_info": {
   "codemirror_mode": {
    "name": "ipython",
    "version": 3
   },
   "file_extension": ".py",
   "mimetype": "text/x-python",
   "name": "python",
   "nbconvert_exporter": "python",
   "pygments_lexer": "ipython3",
   "version": "3.8.10"
  },
  "orig_nbformat": 4,
  "vscode": {
   "interpreter": {
    "hash": "31f2aee4e71d21fbe5cf8b01ff0e069b9275f58929596ceb00d14d90e3e16cd6"
   }
  }
 },
 "nbformat": 4,
 "nbformat_minor": 2
}
